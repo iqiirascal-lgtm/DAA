{
  "nbformat": 4,
  "nbformat_minor": 0,
  "metadata": {
    "colab": {
      "provenance": [],
      "authorship_tag": "ABX9TyPtt1ms0dLblt6pFsMBwhPW",
      "include_colab_link": true
    },
    "kernelspec": {
      "name": "python3",
      "display_name": "Python 3"
    },
    "language_info": {
      "name": "python"
    }
  },
  "cells": [
    {
      "cell_type": "markdown",
      "metadata": {
        "id": "view-in-github",
        "colab_type": "text"
      },
      "source": [
        "<a href=\"https://colab.research.google.com/github/iqiirascal-lgtm/DAA/blob/main/DAAPertemuan2.ipynb\" target=\"_parent\"><img src=\"https://colab.research.google.com/assets/colab-badge.svg\" alt=\"Open In Colab\"/></a>"
      ]
    },
    {
      "cell_type": "code",
      "execution_count": null,
      "metadata": {
        "id": "gi43zWsU9pOC",
        "colab": {
          "base_uri": "https://localhost:8080/"
        },
        "outputId": "07f1eb88-8a28-4e0a-f23d-343bc91dc5f1"
      },
      "outputs": [
        {
          "output_type": "stream",
          "name": "stdout",
          "text": [
            "[1, 2, 3, 4, 5, 6]\n"
          ]
        }
      ],
      "source": [
        "import numpy as np\n",
        "\n",
        "# Terdapat list a dan b\n",
        "a = [1,2,3]\n",
        "b = [4,5,6]\n",
        "\n",
        "# Lalu jumlahkan\n",
        "hasil = a + b\n",
        "print(hasil)\n",
        "\n",
        "# Hasilnya adalah [1,2,3,4,5,6]"
      ]
    },
    {
      "cell_type": "code",
      "source": [
        "import numpy as np\n",
        "\n",
        "a = [1,2,3]\n",
        "b = [4,5,6]\n",
        "\n",
        "def add(list_a, list_b):\n",
        "    result = []\n",
        "    for first, second in zip(list_a, list_b):\n",
        "        result.append(first + second)\n",
        "    return result\n",
        "\n",
        "hasil = add(a,b)\n",
        "print(hasil)"
      ],
      "metadata": {
        "colab": {
          "base_uri": "https://localhost:8080/"
        },
        "id": "GA9n0Tn4Mguy",
        "outputId": "dd9d4096-1ca7-4366-9e1c-720a53231962"
      },
      "execution_count": null,
      "outputs": [
        {
          "output_type": "stream",
          "name": "stdout",
          "text": [
            "[5, 7, 9]\n"
          ]
        }
      ]
    },
    {
      "cell_type": "code",
      "source": [
        "import numpy as np\n",
        "\n",
        "# Membuat array\n",
        "nilai_siswa = np.array([85, 55, 40, 90])\n",
        "\n",
        "# Mengakses data pada array\n",
        "print(nilai_siswa[3])"
      ],
      "metadata": {
        "colab": {
          "base_uri": "https://localhost:8080/"
        },
        "id": "tjoNlQBBNS52",
        "outputId": "f93a4704-ad85-4c09-ed64-fd50bb9f4753"
      },
      "execution_count": null,
      "outputs": [
        {
          "output_type": "stream",
          "name": "stdout",
          "text": [
            "90\n"
          ]
        }
      ]
    },
    {
      "cell_type": "code",
      "source": [
        "import numpy as np\n",
        "\n",
        "print(\"Hello, World!\")\n",
        "\n",
        "NAMA = input(\"Masukkan nama anda: \")\n",
        "print(\"Nama saya\", NAMA)\n",
        "\n",
        "NIM = input(\"Masukkan NIM anda: \")\n",
        "print(\"NIM saya\", NIM)"
      ],
      "metadata": {
        "colab": {
          "base_uri": "https://localhost:8080/"
        },
        "id": "fX5k1AsGN2Ua",
        "outputId": "659b8de6-126e-4fed-8d6b-589afc2769af"
      },
      "execution_count": null,
      "outputs": [
        {
          "output_type": "stream",
          "name": "stdout",
          "text": [
            "Hello, World!\n",
            "Masukkan nama anda: Reezqee Rascal Gultom\n",
            "Nama saya Reezqee Rascal Gultom\n",
            "Masukkan NIM anda: 2024071021\n",
            "NIM saya 2024071021\n"
          ]
        }
      ]
    },
    {
      "cell_type": "code",
      "source": [
        "import numpy as np\n",
        "\n",
        "if 5>2:\n",
        "  print(\"Five is greather than two!\")"
      ],
      "metadata": {
        "colab": {
          "base_uri": "https://localhost:8080/"
        },
        "id": "tKQGsohrPPLL",
        "outputId": "16a7eb9b-8201-42b9-da75-3a1fcbcd65ac"
      },
      "execution_count": null,
      "outputs": [
        {
          "output_type": "stream",
          "name": "stdout",
          "text": [
            "Five is greather than two!\n"
          ]
        }
      ]
    },
    {
      "cell_type": "code",
      "source": [
        "import numpy as np\n",
        "\n",
        "x = 5\n",
        "y = \"Jhon\"\n",
        "print(x)\n",
        "print(y)"
      ],
      "metadata": {
        "colab": {
          "base_uri": "https://localhost:8080/"
        },
        "id": "-YtXdp65PsLz",
        "outputId": "a91f0cc5-1b50-4813-a8d4-e16da23efd9f"
      },
      "execution_count": null,
      "outputs": [
        {
          "output_type": "stream",
          "name": "stdout",
          "text": [
            "5\n",
            "Jhon\n"
          ]
        }
      ]
    },
    {
      "cell_type": "code",
      "source": [
        "import numpy as np\n",
        "\n",
        "x = 4\n",
        "x = \"Sally\"\n",
        "print(x)"
      ],
      "metadata": {
        "colab": {
          "base_uri": "https://localhost:8080/"
        },
        "id": "nKSvofpDP6QY",
        "outputId": "7fef3eed-2198-47c4-f803-c7dfe985cd92"
      },
      "execution_count": null,
      "outputs": [
        {
          "output_type": "stream",
          "name": "stdout",
          "text": [
            "Sally\n"
          ]
        }
      ]
    },
    {
      "cell_type": "code",
      "source": [
        "import numpy as np\n",
        "\n",
        "def getSecond(myList):\n",
        "  return myList[1]\n",
        "\n",
        "print(getSecond([1, 2, 3]))"
      ],
      "metadata": {
        "id": "jXX_VUGkQGBS",
        "colab": {
          "base_uri": "https://localhost:8080/"
        },
        "outputId": "d34e7931-d71f-4b50-bb13-a3c40b162c66"
      },
      "execution_count": 13,
      "outputs": [
        {
          "output_type": "stream",
          "name": "stdout",
          "text": [
            "2\n"
          ]
        }
      ]
    },
    {
      "cell_type": "code",
      "source": [
        "import numpy as np\n",
        "\n",
        "def getLast(myList):\n",
        "  return myList[-1]\n",
        "\n",
        "print(getLast([1, 2, 3]))"
      ],
      "metadata": {
        "colab": {
          "base_uri": "https://localhost:8080/"
        },
        "id": "ktQ-CaOqTsw6",
        "outputId": "1ca7caec-9699-4f07-a525-c25627401051"
      },
      "execution_count": 14,
      "outputs": [
        {
          "output_type": "stream",
          "name": "stdout",
          "text": [
            "3\n"
          ]
        }
      ]
    }
  ]
}