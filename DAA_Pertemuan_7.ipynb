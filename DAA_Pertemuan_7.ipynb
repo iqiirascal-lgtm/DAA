{
  "cells": [
    {
      "cell_type": "markdown",
      "metadata": {
        "id": "view-in-github",
        "colab_type": "text"
      },
      "source": [
        "<a href=\"https://colab.research.google.com/github/iqiirascal-lgtm/DAA/blob/main/DAA_Pertemuan_7.ipynb\" target=\"_parent\"><img src=\"https://colab.research.google.com/assets/colab-badge.svg\" alt=\"Open In Colab\"/></a>"
      ]
    },
    {
      "cell_type": "code",
      "execution_count": null,
      "metadata": {
        "colab": {
          "base_uri": "https://localhost:8080/"
        },
        "id": "UexFACLX0QJH",
        "outputId": "9220cfac-ea44-49d1-e8ed-72d474391c2a"
      },
      "outputs": [
        {
          "name": "stdout",
          "output_type": "stream",
          "text": [
            "Angka rahasianya adalah: 78\n"
          ]
        }
      ],
      "source": [
        "def tebak_angka(angka_rahasia):\n",
        "  for tebakan in range(1, 101):\n",
        "    if tebakan == angka_rahasia:\n",
        "      print(\"Angka rahasianya adalah:\", tebakan)\n",
        "      break\n",
        "\n",
        "# Contoh penggunaan\n",
        "angka_rahasia = 78\n",
        "tebak_angka(angka_rahasia)"
      ]
    },
    {
      "cell_type": "code",
      "execution_count": null,
      "metadata": {
        "colab": {
          "base_uri": "https://localhost:8080/"
        },
        "id": "GwHxMy6E1V5Y",
        "outputId": "3d31256b-40c8-4e43-9a94-ffae2f1e587d"
      },
      "outputs": [
        {
          "name": "stdout",
          "output_type": "stream",
          "text": [
            "21 0 \n",
            "42 12 \n"
          ]
        }
      ],
      "source": [
        "#Perkalian matriks\n",
        "\n",
        "mat1 = [\n",
        "    [7, 0],\n",
        "    [4, 6],\n",
        "]\n",
        "\n",
        "mat2 = [\n",
        "    [3, 0],\n",
        "    [5, 2],\n",
        "]\n",
        "\n",
        "mat3 = []\n",
        "\n",
        "for x in range(0, len(mat1)):\n",
        "    row = []\n",
        "    for y in range(0, len(mat1[0])):\n",
        "        total = 0\n",
        "        for z in range(0, len(mat1)):\n",
        "            total = total + (mat1[x][z] * mat2[z][y])\n",
        "        row.append(total)\n",
        "    mat3.append(row)\n",
        "\n",
        "for x in range(0, len(mat3)):\n",
        "    for y in range(0, len(mat3[0])):\n",
        "        print(mat3[x][y], end=' ')\n",
        "    print()"
      ]
    },
    {
      "cell_type": "code",
      "execution_count": null,
      "metadata": {
        "colab": {
          "base_uri": "https://localhost:8080/"
        },
        "id": "SY2STTcU1V3J",
        "outputId": "43bf98e1-5227-48b6-ba33-8b3b842186ea"
      },
      "outputs": [
        {
          "name": "stdout",
          "output_type": "stream",
          "text": [
            "Masukan nilai n: 4\n",
            "Hasil dari 4! 24\n"
          ]
        }
      ],
      "source": [
        "# Faktorial\n",
        "\n",
        "def Faktorial(n):\n",
        "  if (n==1):\n",
        "    return n\n",
        "  return Faktorial(n-1)*n\n",
        "\n",
        "n = int(input(\"Masukan nilai n: \")) #input nilai\n",
        "print(f\"Hasil dari {n}!\", Faktorial(n)) #output nilai"
      ]
    },
    {
      "cell_type": "code",
      "execution_count": null,
      "metadata": {
        "colab": {
          "base_uri": "https://localhost:8080/"
        },
        "id": "8yHzsYyx1V1C",
        "outputId": "835d7b8d-1dd6-4509-9182-b140de3f64a9"
      },
      "outputs": [
        {
          "name": "stdout",
          "output_type": "stream",
          "text": [
            "[3, 20, 100, -35, 50]\n",
            "Nilai terbesar: 100\n"
          ]
        }
      ],
      "source": [
        "def nilai_maksimal(deret_bilangan):\n",
        "  nilai_terbesar = deret_bilangan[0]\n",
        "\n",
        "  for nilai in deret_bilangan:\n",
        "    if nilai > nilai_terbesar:\n",
        "      nilai_terbesar = nilai\n",
        "\n",
        "\n",
        "  return nilai_terbesar\n",
        "\n",
        "  a = [3, 20, 100, -35, 50]\n",
        "\n",
        "print(a)\n",
        "print('Nilai terbesar:', nilai_maksimal(a))"
      ]
    },
    {
      "cell_type": "code",
      "execution_count": null,
      "metadata": {
        "colab": {
          "base_uri": "https://localhost:8080/"
        },
        "id": "E-yJ44FB2cu1",
        "outputId": "6cc5ea92-bbca-4cc9-e2d0-e7075abd22ef"
      },
      "outputs": [
        {
          "name": "stdout",
          "output_type": "stream",
          "text": [
            "Deret bilangan: [3, 20, 100, -35, 50]\n",
            "Nilai terkecil: -35\n"
          ]
        }
      ],
      "source": [
        "#mencari elemen terkecil\n",
        "def nilai_minimal(deret_bilangan):\n",
        "    nilai_terkecil = deret_bilangan[0]   # Inisialisasi\n",
        "    for nilai in deret_bilangan:\n",
        "        if nilai < nilai_terkecil:\n",
        "            nilai_terkecil = nilai\n",
        "    return nilai_terkecil\n",
        "\n",
        "a = [3, 20, 100, -35, 50]\n",
        "\n",
        "print(\"Deret bilangan:\", a)\n",
        "print(\"Nilai terkecil:\", nilai_minimal(a))"
      ]
    },
    {
      "cell_type": "code",
      "execution_count": null,
      "metadata": {
        "colab": {
          "base_uri": "https://localhost:8080/"
        },
        "id": "Zw3zIZk54Ix4",
        "outputId": "e11c591e-f8e6-4a2f-90ac-65aaef66d33e"
      },
      "outputs": [
        {
          "name": "stdout",
          "output_type": "stream",
          "text": [
            "Data: [5, 10, 15, 20, 25, 30]\n",
            "Elemen yang dicari: 20\n",
            "Elemen ditemukan pada posisi ke-4\n"
          ]
        }
      ],
      "source": [
        "def pencarian_beruntun(data, x):\n",
        "    \"\"\"\n",
        "    Mencari nilai x di dalam elemen data (a1, a2, ..., an)\n",
        "    Jika ditemukan, mengembalikan indeks (idx)\n",
        "    Jika tidak ditemukan, idx = 0 (sesuai algoritma di slide)\n",
        "    \"\"\"\n",
        "    n = len(data)\n",
        "    k = 0  # karena indeks Python mulai dari 0\n",
        "\n",
        "    # Proses pencarian selama belum mencapai akhir dan belum ditemukan\n",
        "    while k < n and data[k] != x:\n",
        "        k += 1\n",
        "\n",
        "    # Mengecek apakah ditemukan\n",
        "    if k < n and data[k] == x:\n",
        "        idx = k + 1   # +1 untuk menyesuaikan dengan notasi a₁, a₂, ... aₙ (indeks mulai dari 1)\n",
        "    else:\n",
        "        idx = 0\n",
        "\n",
        "    return idx\n",
        "\n",
        "\n",
        "a = [5, 10, 15, 20, 25, 30]\n",
        "x = 20\n",
        "\n",
        "print(\"Data:\", a)\n",
        "print(\"Elemen yang dicari:\", x)\n",
        "hasil = pencarian_beruntun(a, x)\n",
        "\n",
        "if hasil != 0:\n",
        "    print(f\"Elemen ditemukan pada posisi ke-{hasil}\")\n",
        "else:\n",
        "    print(\"Elemen tidak ditemukan.\")"
      ]
    },
    {
      "cell_type": "code",
      "execution_count": null,
      "metadata": {
        "id": "Nh2PsH151VsS"
      },
      "outputs": [],
      "source": [
        "#Sequential search\n",
        "\n",
        "def sequentialSearch(alist, item):\n",
        "  pos = 0\n",
        "  found = False\n",
        "\n",
        "  while pos < len(alist) and not found:\n",
        "    if alist[pos] == item:\n",
        "      found = True\n",
        "    else:\n",
        "      pos = pos+1\n",
        "  return found\n",
        "\n",
        "  testlist = [1, 2, 32, 8, 17, 19, 42, 13, 0]\n",
        "  print(sequentialSearch(testlist, 3))\n",
        "  print(sequentialSearch(testlist, 2))"
      ]
    },
    {
      "cell_type": "code",
      "execution_count": null,
      "metadata": {
        "colab": {
          "base_uri": "https://localhost:8080/"
        },
        "id": "IGSR_H_f1Vpw",
        "outputId": "45a47880-a355-4170-d96c-115a322e9857"
      },
      "outputs": [
        {
          "name": "stdout",
          "output_type": "stream",
          "text": [
            "[17, 20, 26, 31, 44, 54, 55, 77, 93]\n"
          ]
        }
      ],
      "source": [
        "#Bubble sort\n",
        "\n",
        "def bubbleSort(alist):\n",
        "  for passnum in range(len(alist)-1,0,-1):\n",
        "    for i in range(passnum):\n",
        "      if alist[i]>alist[i+1]:\n",
        "        temp = alist[i]\n",
        "        alist[i] = alist[i+1]\n",
        "        alist[i+1] = temp\n",
        "\n",
        "alist = [54,26,93,17,77,31,44,55,20]\n",
        "bubbleSort(alist)\n",
        "print(alist)"
      ]
    },
    {
      "cell_type": "code",
      "execution_count": null,
      "metadata": {
        "colab": {
          "base_uri": "https://localhost:8080/"
        },
        "id": "tb_iBObw1Vlv",
        "outputId": "15b42c69-1c6f-4126-9617-5e2201111bc8"
      },
      "outputs": [
        {
          "name": "stdout",
          "output_type": "stream",
          "text": [
            "Input satu angka bulet: 9\n",
            "9 bukan angka prima\n"
          ]
        }
      ],
      "source": [
        "#Uji Keprimaan\n",
        "x = int(input('Input satu angka bulet: '))\n",
        "\n",
        "angka_prim = True\n",
        "if((x == 0) or (x == 1)):\n",
        "  angka_prim = False\n",
        "else:\n",
        "  for i in range(2, x):\n",
        "    if(x % i == 0):\n",
        "      angka_prim = False\n",
        "      break\n",
        "\n",
        "if(angka_prim):\n",
        "  print(x, 'adalah angka prima')\n",
        "else:\n",
        "  print(x, 'bukan angka prima')"
      ]
    },
    {
      "cell_type": "code",
      "execution_count": null,
      "metadata": {
        "id": "QjwKw85P1Vjp"
      },
      "outputs": [],
      "source": [
        "def polynomial_py(a, x):\n",
        "  result = 0\n",
        "  # for every n in 0..len(a)-1\n",
        "  for  n, a_n in enumerate(a):\n",
        "    # compute x^n\n",
        "    x_power_n = 1\n",
        "    for i in range(n):\n",
        "      x_power_n *= x\n",
        "    # add a_n * x^n to the final result\n",
        "    result += a_n * x_power_n\n",
        "  return result"
      ]
    },
    {
      "cell_type": "code",
      "execution_count": null,
      "metadata": {
        "colab": {
          "base_uri": "https://localhost:8080/"
        },
        "id": "ztKtuLtY6uVK",
        "outputId": "f4b8ffa2-2c36-4599-8694-b1af692cb0d6"
      },
      "outputs": [
        {
          "name": "stdout",
          "output_type": "stream",
          "text": [
            "Teks     : 123456789\n",
            "Pattern  : 56\n",
            "Pattern ditemukan mulai pada indeks ke-4\n"
          ]
        }
      ],
      "source": [
        "# Kompleksitas algoritma: O(nm) pada kasus terburuk\n",
        "def brute_force_string_match(text, pattern):\n",
        "    \"\"\"\n",
        "    Mencocokkan 'pattern' di dalam 'text' menggunakan metode brute force.\n",
        "    Jika ditemukan, mengembalikan indeks posisi pertama (mulai dari 0).\n",
        "    Jika tidak ditemukan, mengembalikan -1.\n",
        "    Kompleksitas waktu : O(n * m)\n",
        "    \"\"\"\n",
        "\n",
        "    n = len(text)\n",
        "    m = len(pattern)\n",
        "\n",
        "    # Geser pattern dari posisi 0 sampai (n - m)\n",
        "    for i in range(n - m + 1):\n",
        "        j = 0\n",
        "        # Cek apakah semua karakter cocok\n",
        "        while j < m and text[i + j] == pattern[j]:\n",
        "            j += 1\n",
        "\n",
        "        # Jika seluruh karakter pattern cocok\n",
        "        if j == m:\n",
        "            return i  # posisi awal kecocokan ditemukan\n",
        "\n",
        "    # Jika tidak ditemukan\n",
        "    return -1\n",
        "\n",
        "text = \"123456789\"\n",
        "pattern = \"56\"\n",
        "\n",
        "print(\"Teks     :\", text)\n",
        "print(\"Pattern  :\", pattern)\n",
        "\n",
        "hasil = brute_force_string_match(text, pattern)\n",
        "\n",
        "if hasil != -1:\n",
        "    print(f\"Pattern ditemukan mulai pada indeks ke-{hasil}\")\n",
        "else:\n",
        "    print(\"Pattern tidak ditemukan dalam teks.\")"
      ]
    },
    {
      "cell_type": "code",
      "execution_count": null,
      "metadata": {
        "colab": {
          "base_uri": "https://localhost:8080/"
        },
        "id": "ay_IHSA-1VhZ",
        "outputId": "f5b761a8-be54-4dfd-aad9-961cd95fe864"
      },
      "outputs": [
        {
          "name": "stdout",
          "output_type": "stream",
          "text": [
            "14.125\n"
          ]
        }
      ],
      "source": [
        "a = [1, 2, 0, 3] # coefficient\n",
        "x = 1.5\n",
        "print(polynomial_py(a, x)) #14.125"
      ]
    },
    {
      "cell_type": "code",
      "execution_count": null,
      "metadata": {
        "colab": {
          "base_uri": "https://localhost:8080/"
        },
        "id": "Pq5sVg9D1Vfb",
        "outputId": "b8c49439-9268-4f30-dac4-5e8c655b66e2"
      },
      "outputs": [
        {
          "name": "stdout",
          "output_type": "stream",
          "text": [
            "The original string is : GFG is good website\n",
            "The original list is : ['GFG', 'site', 'CS', 'Geeks', 'Tutorial']\n",
            "The list of found substrings : ['GFG', 'site']\n"
          ]
        }
      ],
      "source": [
        "test_str = \"GFG is good website\";\n",
        "\n",
        "test_list = [\"GFG\", \"site\", \"CS\", \"Geeks\", \"Tutorial\"]\n",
        "\n",
        "print(\"The original string is : \" + test_str)\n",
        "\n",
        "print(\"The original list is : \" + str(test_list))\n",
        "\n",
        "res = [sub for sub in test_list if sub in test_str]\n",
        "\n",
        "print(\"The list of found substrings : \" + str(res))"
      ]
    },
    {
      "cell_type": "code",
      "execution_count": null,
      "metadata": {
        "id": "lppZngmc1VdA"
      },
      "outputs": [],
      "source": [
        "from math import sqrt\n",
        "from random import randint\n",
        "titik = []\n",
        "n = int(input('Masukan jumlah titik yang ingin Anda cari jaraknya: '))\n",
        "for i in range (0,n):\n",
        "  titik.append([randint(0,100),randint(0,100)])\n",
        "print('Titik:\\n',titik)\n",
        "def hitungjarak(lis):\n",
        "  lisjarak = []\n",
        "  for i in range (0,len(lis)-1):\n",
        "      for j in range (i+1,len(lis)):\n",
        "          jarak = sqrt((lis[i][0]-lis[j][0])**2 + (lis[i][1]-lis[j][1])**2)\n",
        "          lisjarak.append(jarak)\n",
        "          print('Titik: ', lis[i], 'Titik: ',lis[j],': ', jarak)\n",
        "  return min(lisjarak)\n",
        "print('Jarak terdekat:\\n',hitungjarak(titik))"
      ]
    },
    {
      "cell_type": "code",
      "execution_count": null,
      "metadata": {
        "colab": {
          "base_uri": "https://localhost:8080/"
        },
        "id": "RHAQUW5Z1Va5",
        "outputId": "de3e0446-947f-4945-c940-5aca3cb72c39"
      },
      "outputs": [
        {
          "output_type": "stream",
          "name": "stdout",
          "text": [
            "100\n"
          ]
        }
      ],
      "source": [
        "#Find Maximum Value in Linear Search\n",
        "def find_maximum(lst):\n",
        "  max = None\n",
        "  for el in lst:\n",
        "    if max == None or el > max:\n",
        "      max = el\n",
        "  return max\n",
        "test_scores = [88, 93, 75, 100, 80, 67, 71, 92, 90, 83]\n",
        "print(find_maximum(test_scores)) # returns 100"
      ]
    },
    {
      "cell_type": "code",
      "execution_count": null,
      "metadata": {
        "colab": {
          "base_uri": "https://localhost:8080/"
        },
        "id": "AfM6UBGp1VYx",
        "outputId": "56db5d34-ec6e-4bfd-c75c-18ff5fce8e00"
      },
      "outputs": [
        {
          "output_type": "stream",
          "name": "stdout",
          "text": [
            "[17, 20, 26, 31, 44, 54, 55, 77, 93]\n"
          ]
        }
      ],
      "source": [
        "#BUBBLE SORT\n",
        "def bubbleSort(alist):\n",
        "  for passnum in range(len(alist)-1,0,-1):\n",
        "    for i in range(passnum):\n",
        "      if alist[i]>alist[i+1]:\n",
        "        temp = alist[i]\n",
        "        alist[i] = alist[i+1]\n",
        "        alist[i+1] = temp\n",
        "\n",
        "alist = [54,26,93,17,77,31,44,55,20]\n",
        "bubbleSort(alist)\n",
        "print(alist)"
      ]
    },
    {
      "cell_type": "code",
      "execution_count": null,
      "metadata": {
        "colab": {
          "base_uri": "https://localhost:8080/"
        },
        "id": "gyE83H2m1VUy",
        "outputId": "bede0238-63e1-42f4-da16-91243639f460"
      },
      "outputs": [
        {
          "output_type": "stream",
          "name": "stdout",
          "text": [
            "Data sebelum diurutkan : [29, 10, 14, 37, 14]\n",
            "Data setelah diurutkan : [10, 14, 14, 29, 37]\n"
          ]
        }
      ],
      "source": [
        "#SELECTION SORT\n",
        "\n",
        "def selection_sort(L):\n",
        "    \"\"\"\n",
        "    Mengurutkan elemen-elemen list L secara ascending\n",
        "    menggunakan metode Brute Force (Selection Sort).\n",
        "    Kompleksitas waktu: O(n^2)\n",
        "    Kompleksitas ruang: O(1)\n",
        "    \"\"\"\n",
        "    n = len(L)\n",
        "\n",
        "    for i in range(n - 1):\n",
        "        # Misalkan elemen terkecil sementara adalah L[i]\n",
        "        min_index = i\n",
        "\n",
        "        # Cari elemen terkecil di sisa list\n",
        "        for j in range(i + 1, n):\n",
        "            if L[j] < L[min_index]:\n",
        "                min_index = j\n",
        "\n",
        "        # Tukar posisi jika ditemukan elemen yang lebih kecil\n",
        "        if min_index != i:\n",
        "            temp = L[i]\n",
        "            L[i] = L[min_index]\n",
        "            L[min_index] = temp\n",
        "\n",
        "    return L\n",
        "\n",
        "data = [29, 10, 14, 37, 14]\n",
        "print(\"Data sebelum diurutkan :\", data)\n",
        "\n",
        "hasil = selection_sort(data)\n",
        "print(\"Data setelah diurutkan :\", hasil)"
      ]
    },
    {
      "cell_type": "code",
      "execution_count": null,
      "metadata": {
        "colab": {
          "base_uri": "https://localhost:8080/"
        },
        "id": "xsTpdgRp1VQ0",
        "outputId": "8dc93cf6-f9a5-43f8-fa0a-5a99bf9cdbe7"
      },
      "outputs": [
        {
          "output_type": "stream",
          "name": "stdout",
          "text": [
            "(True, 3)\n"
          ]
        }
      ],
      "source": [
        "#SEQUENTIAL SEARCH\n",
        "def Sequemtial_Search(dlist, item):\n",
        "\n",
        "  pos = 0\n",
        "  found = False\n",
        "\n",
        "  while pos < len(dlist) and not found:\n",
        "    if dlist[pos] == item:\n",
        "      found = True\n",
        "    else:\n",
        "      pos = pos + 1\n",
        "\n",
        "  return found, pos\n",
        "\n",
        "print(Sequemtial_Search([11,23,58,31,56,77,43,12,65,19],31))"
      ]
    },
    {
      "cell_type": "code",
      "execution_count": null,
      "metadata": {
        "colab": {
          "base_uri": "https://localhost:8080/"
        },
        "id": "_1S3GhPq1VOq",
        "outputId": "d4c014ab-99c7-458a-a1b8-f8d214ba32b4"
      },
      "outputs": [
        {
          "output_type": "stream",
          "name": "stdout",
          "text": [
            "Deret: ['a', 'b', 'c', 'd', 'e', 'f', 'g', 'h']\n",
            "Elemen yang dicari: g\n",
            "Elemen 'g' ditemukan di posisi ke-7\n"
          ]
        }
      ],
      "source": [
        "# ALGORITMA BRUTE FORCE : SEQUENTIAL SEARCH\n",
        "\n",
        "def sequential_search(deret, x):\n",
        "    k = 0\n",
        "    n = len(deret)\n",
        "\n",
        "    while (k < n) and (deret[k] != x):\n",
        "        k = k + 1\n",
        "\n",
        "    if k < n and deret[k] == x:\n",
        "        idx = k + 1\n",
        "    else:\n",
        "        idx = 0\n",
        "\n",
        "    return idx\n",
        "\n",
        "\n",
        "\n",
        "# LATIHAN (Sesuai Slide)\n",
        "# Carilah string 'g' dari deret a sampai h\n",
        "\n",
        "deret = ['a', 'b', 'c', 'd', 'e', 'f', 'g', 'h']\n",
        "x = 'g'\n",
        "\n",
        "print(\"Deret:\", deret)\n",
        "print(\"Elemen yang dicari:\", x)\n",
        "\n",
        "hasil = sequential_search(deret, x)\n",
        "\n",
        "if hasil != 0:\n",
        "    print(f\"Elemen '{x}' ditemukan di posisi ke-{hasil}\")\n",
        "else:\n",
        "    print(f\"Elemen '{x}' tidak ditemukan dalam deret.\")\n"
      ]
    },
    {
      "cell_type": "code",
      "execution_count": null,
      "metadata": {
        "id": "jkhMnMsH1VMg",
        "colab": {
          "base_uri": "https://localhost:8080/"
        },
        "outputId": "be576f42-9376-4f7f-a5b6-9ffe7a7d3ab7"
      },
      "outputs": [
        {
          "name": "stdout",
          "output_type": "stream",
          "text": [
            "Masukan bilangan: 4\n"
          ]
        }
      ],
      "source": [
        "#ALGORITMA BRUTE FORCE: PANGKAT\n",
        "bilangan = int(input('Masukan bilangan: '))\n",
        "pangkat = int(input('Masukan pangkat: '))\n",
        "\n",
        "def hitung_pangkat(bilangan, pangkat):\n",
        "  if pangkat > 1:\n",
        "    return bilangan * hitung_pangkat(bilangan, pangkat - 1)\n",
        "  return bilangan\n",
        "\n",
        "hasil = hitung_pangkat(bilangan, pangkat)\n",
        "print(f'Hasil = ')"
      ]
    },
    {
      "cell_type": "code",
      "execution_count": null,
      "metadata": {
        "id": "38oWqz9V1VKK",
        "colab": {
          "base_uri": "https://localhost:8080/"
        },
        "outputId": "7ea1d47e-3d9f-41bc-d6da-0d631cce8020"
      },
      "outputs": [
        {
          "output_type": "stream",
          "name": "stdout",
          "text": [
            "Masukan nilai n: 5\n",
            "5! = 120\n"
          ]
        }
      ],
      "source": [
        "#ALGORITMA BRUTE FORCE: FAKTORIAL\n",
        "n = int(input('Masukan nilai n: '))\n",
        "\n",
        "def hitung_faktorial (n):\n",
        "  if n  > 2:\n",
        "    return n * hitung_faktorial(n-1)\n",
        "  return 2\n",
        "\n",
        "faktorial = hitung_faktorial(n)\n",
        "print(f'{n}! = {faktorial}')"
      ]
    },
    {
      "cell_type": "code",
      "execution_count": null,
      "metadata": {
        "id": "m9FswT9X1VHy",
        "colab": {
          "base_uri": "https://localhost:8080/"
        },
        "outputId": "c13345ff-81db-4469-94ff-704ea12a5097"
      },
      "outputs": [
        {
          "output_type": "stream",
          "name": "stdout",
          "text": [
            "4\n"
          ]
        }
      ],
      "source": [
        "#ALGORITMA BRUTE FORCE: STRING MATCHING\n",
        "def string_match(string, sub_str):\n",
        "  for i in range(len(string)-len(sub_str)+1):\n",
        "    index = i\n",
        "    for j in range(len(sub_str)):\n",
        "      if string[index] == sub_str[j]:\n",
        "        index += 1\n",
        "      else:\n",
        "        break\n",
        "      if index-i == len(sub_str):\n",
        "        return i\n",
        "  return -1\n",
        "\n",
        "if __name__ == \"__main__\":\n",
        "  print(string_match(\"adbcbdc\", \"bdc\"))"
      ]
    },
    {
      "cell_type": "code",
      "execution_count": null,
      "metadata": {
        "id": "4PtXEnYkQpAl",
        "colab": {
          "base_uri": "https://localhost:8080/"
        },
        "outputId": "51e0e1ee-4bd3-4278-a74b-ef52f8646efe"
      },
      "outputs": [
        {
          "output_type": "stream",
          "name": "stdout",
          "text": [
            "Teks   : 123456789\n",
            "Pola   : 56\n",
            "Pola '56' ditemukan mulai pada posisi ke-5.\n"
          ]
        }
      ],
      "source": [
        "#ALGORITMA BRUTE FORCE: STRING MATCHING\n",
        "\n",
        "def string_match(teks, pola):\n",
        "  n = len(teks)\n",
        "  m = len(pola)\n",
        "\n",
        "  for i in range(n-m+1):\n",
        "      j = 0\n",
        "      while j < m and teks[i + j] == pola[j]:\n",
        "          j += 1\n",
        "      if j == m:\n",
        "          return i + 1\n",
        "  return 0\n",
        "\n",
        "teks = \"123456789\"\n",
        "pola = \"56\"\n",
        "\n",
        "print(\"Teks   :\", teks)\n",
        "print(\"Pola   :\", pola)\n",
        "\n",
        "hasil = string_match(teks, pola)\n",
        "\n",
        "if hasil != 0:\n",
        "    print(f\"Pola '{pola}' ditemukan mulai pada posisi ke-{hasil}.\")\n",
        "else:\n",
        "    print(f\"Pola '{pola}' tidak ditemukan dalam teks.\")"
      ]
    },
    {
      "cell_type": "code",
      "source": [
        "%matplotlib inline\n",
        "import matplotlib.pyplot as plt\n",
        "import itertools\n",
        "import math\n",
        "import random\n",
        "from time import process_time\n",
        "from collections import Counter\n",
        "\n",
        "# ------------------------------------------------------\n",
        "# FUNGSI VISUALISASI\n",
        "# ------------------------------------------------------\n",
        "def visualize_tour(tour, style='bo-'):\n",
        "    if len(tour) > 1000:\n",
        "        plt.figure(figsize=(15, 10))\n",
        "    start = tour[0:1]\n",
        "    visualize_segment(tour + start, style)\n",
        "    plt.plot([X(c) for c in start], [Y(c) for c in start], 'rD')\n",
        "    plt.show()\n",
        "\n",
        "def visualize_segment(segment, style='bo-'):\n",
        "    plt.plot([X(c) for c in segment], [Y(c) for c in segment], style, clip_on=False)\n",
        "    plt.axis('scaled')\n",
        "    plt.axis('off')\n",
        "\n",
        "def X(city):\n",
        "    return city[0]\n",
        "\n",
        "def Y(city):\n",
        "    return city[1]\n",
        "\n",
        "\n",
        "# ------------------------------------------------------\n",
        "# FUNGSI PERHITUNGAN JARAK\n",
        "# ------------------------------------------------------\n",
        "def distance_points(a, b):\n",
        "    return math.sqrt((a[0] - b[0])**2 + (a[1] - b[1])**2)\n",
        "\n",
        "def distance_tour(tour):\n",
        "    return sum(distance_points(tour[i], tour[i + 1]) for i in range(len(tour) - 1)) + distance_points(tour[-1], tour[0])\n",
        "\n",
        "\n",
        "# ------------------------------------------------------\n",
        "# GENERATE KOTA (ACAK)\n",
        "# ------------------------------------------------------\n",
        "def generate_cities(number_of_cities):\n",
        "    seed = 111\n",
        "    width = 500\n",
        "    height = 300\n",
        "    random.seed(seed + number_of_cities)\n",
        "    return [(random.randint(1, width), random.randint(1, height)) for _ in range(number_of_cities)]\n",
        "\n",
        "\n",
        "# ------------------------------------------------------\n",
        "# STRATEGI ALGORITMA BRUTE FORCE\n",
        "# ------------------------------------------------------\n",
        "def alltours(cities):\n",
        "    return itertools.permutations(cities)\n",
        "\n",
        "def shortest_tour(tours):\n",
        "    return min(tours, key=distance_tour)\n",
        "\n",
        "def brute_force(cities):\n",
        "    \"Generate all possible tours of the cities and choose the shortest tour.\"\n",
        "    return shortest_tour(alltours(cities))\n",
        "\n",
        "\n",
        "# ------------------------------------------------------\n",
        "# PROSES UTAMA TSP\n",
        "# ------------------------------------------------------\n",
        "def tsp(algorithm, cities):\n",
        "    t0 = process_time()\n",
        "    tour = algorithm(cities)\n",
        "    t1 = process_time()\n",
        "    assert Counter(tour) == Counter(cities)\n",
        "    visualize_tour(tour)\n",
        "    print(\"{}: {} cities -> tour length {:.0f} (in {:.3f} sec)\".format(\n",
        "        name(algorithm), len(tour), distance_tour(tour), t1 - t0))\n",
        "\n",
        "def name(algorithm):\n",
        "    return algorithm.__name__.replace('_tsp','')\n",
        "\n",
        "\n",
        "# ------------------------------------------------------\n",
        "# EKSEKUSI UTAMA (SESUAI SLIDE)\n",
        "# ------------------------------------------------------\n",
        "tsp(brute_force, generate_cities(10))\n"
      ],
      "metadata": {
        "id": "VnqBGBUsa69h",
        "colab": {
          "base_uri": "https://localhost:8080/",
          "height": 291
        },
        "outputId": "1a16daa2-e083-4111-988a-5c84ba9f1191"
      },
      "execution_count": 72,
      "outputs": [
        {
          "output_type": "display_data",
          "data": {
            "text/plain": [
              "<Figure size 640x480 with 1 Axes>"
            ],
            "image/png": "[encoded data removed]"
          },
          "metadata": {}
        },
        {
          "output_type": "stream",
          "name": "stdout",
          "text": [
            "brute_force: 10 cities -> tour length 1170 (in 16.365 sec)\n"
          ]
        }
      ]
    },
    {
      "cell_type": "code",
      "source": [
        "#STRATEGI ALGORITMA BRUTE FORCE Latihan: Lebih cepat mana brute force atau greedy algorithm pada TSP dengan 20 titik?\n",
        "\n",
        "import itertools\n",
        "import math\n",
        "import random\n",
        "from time import process_time\n",
        "from collections import Counter\n",
        "\n",
        "# ----------------------------------------------------\n",
        "# FUNGSI PERHITUNGAN JARAK\n",
        "# ----------------------------------------------------\n",
        "def distance_points(a, b):\n",
        "    return math.sqrt((a[0] - b[0])**2 + (a[1] - b[1])**2)\n",
        "\n",
        "def distance_tour(tour):\n",
        "    return sum(distance_points(tour[i], tour[i + 1]) for i in range(len(tour) - 1)) + distance_points(tour[-1], tour[0])\n",
        "\n",
        "# ----------------------------------------------------\n",
        "# FUNGSI MEMBUAT TITIK KOTA\n",
        "# ----------------------------------------------------\n",
        "def generate_cities(number_of_cities):\n",
        "    seed = 111\n",
        "    width = 500\n",
        "    height = 300\n",
        "    random.seed(seed + number_of_cities)\n",
        "    return [(random.randint(1, width), random.randint(1, height)) for _ in range(number_of_cities)]\n",
        "\n",
        "# ----------------------------------------------------\n",
        "# ALGORITMA BRUTE FORCE\n",
        "# ----------------------------------------------------\n",
        "def alltours(cities):\n",
        "    return itertools.permutations(cities)\n",
        "\n",
        "def shortest_tour(tours):\n",
        "    return min(tours, key=distance_tour)\n",
        "\n",
        "def brute_force(cities):\n",
        "    \"Generate all possible tours of the cities and choose the shortest tour.\"\n",
        "    return shortest_tour(alltours(cities))\n",
        "\n",
        "# ----------------------------------------------------\n",
        "# ALGORITMA GREEDY (NEAREST NEIGHBOR)\n",
        "# ----------------------------------------------------\n",
        "def greedy_tsp(cities):\n",
        "    \"Pilih kota terdekat berikutnya secara iteratif.\"\n",
        "    unvisited = cities[:]\n",
        "    tour = [unvisited.pop(0)]\n",
        "    while unvisited:\n",
        "        nearest = min(unvisited, key=lambda city: distance_points(tour[-1], city))\n",
        "        tour.append(nearest)\n",
        "        unvisited.remove(nearest)\n",
        "    return tour\n",
        "\n",
        "# ----------------------------------------------------\n",
        "# FUNGSI PEMBANDING WAKTU EKSEKUSI\n",
        "# ----------------------------------------------------\n",
        "def tsp(algorithm, cities):\n",
        "    t0 = process_time()\n",
        "    tour = algorithm(cities)\n",
        "    t1 = process_time()\n",
        "    print(\"{}: {} cities -> tour length {:.0f} (in {:.3f} sec)\".format(\n",
        "        name(algorithm), len(tour), distance_tour(tour), t1 - t0))\n",
        "    return t1 - t0\n",
        "\n",
        "def name(algorithm):\n",
        "    return algorithm.__name__.replace('_tsp','')\n",
        "\n",
        "# ----------------------------------------------------\n",
        "# LATIHAN SESUAI SLIDE:\n",
        "# Lebih cepat mana brute force atau greedy pada 20 titik?\n",
        "# ----------------------------------------------------\n",
        "cities = generate_cities(20)\n",
        "\n",
        "print(\"=== Perbandingan Waktu Eksekusi TSP (20 Titik) ===\")\n",
        "print()\n",
        "\n",
        "time_brute = tsp(brute_force, cities[:10])  # hanya 10 titik, 20 akan terlalu lama\n",
        "time_greedy = tsp(greedy_tsp, cities)\n",
        "\n",
        "print(\"\\nKesimpulan:\")\n",
        "if time_brute < time_greedy:\n",
        "    print(\"Brute Force lebih cepat (namun hanya untuk jumlah kota kecil).\")\n",
        "else:\n",
        "    print(\"Greedy Algorithm jauh lebih cepat untuk 20 titik.\")\n"
      ],
      "metadata": {
        "colab": {
          "base_uri": "https://localhost:8080/"
        },
        "id": "NxNqIuNLsgf3",
        "outputId": "64cdaca0-ed36-44a3-abeb-82022a2717fe"
      },
      "execution_count": 74,
      "outputs": [
        {
          "output_type": "stream",
          "name": "stdout",
          "text": [
            "=== Perbandingan Waktu Eksekusi TSP (20 Titik) ===\n",
            "\n",
            "brute_force: 10 cities -> tour length 1138 (in 16.028 sec)\n",
            "greedy: 20 cities -> tour length 1901 (in 0.000 sec)\n",
            "\n",
            "Kesimpulan:\n",
            "Greedy Algorithm jauh lebih cepat untuk 20 titik.\n"
          ]
        }
      ]
    },
    {
      "cell_type": "code",
      "source": [],
      "metadata": {
        "id": "ZlwcRpPhsgcQ"
      },
      "execution_count": null,
      "outputs": []
    },
    {
      "cell_type": "code",
      "source": [],
      "metadata": {
        "id": "xJsOaqZ3sgaY"
      },
      "execution_count": null,
      "outputs": []
    }
  ],
  "metadata": {
    "colab": {
      "provenance": [],
      "authorship_tag": "ABX9TyMRnfq2+jieVedD8l8omGvR",
      "include_colab_link": true
    },
    "kernelspec": {
      "display_name": "Python 3",
      "name": "python3"
    },
    "language_info": {
      "name": "python"
    }
  },
  "nbformat": 4,
  "nbformat_minor": 0
}