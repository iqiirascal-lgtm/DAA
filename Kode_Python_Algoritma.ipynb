{
  "nbformat": 4,
  "nbformat_minor": 0,
  "metadata": {
    "colab": {
      "provenance": [],
      "authorship_tag": "ABX9TyOZ/WUX+/tf+YC8l4ZQxCeS",
      "include_colab_link": true
    },
    "kernelspec": {
      "name": "python3",
      "display_name": "Python 3"
    },
    "language_info": {
      "name": "python"
    }
  },
  "cells": [
    {
      "cell_type": "markdown",
      "metadata": {
        "id": "view-in-github",
        "colab_type": "text"
      },
      "source": [
        "<a href=\"https://colab.research.google.com/github/iqiirascal-lgtm/DAA/blob/main/Kode_Python_Algoritma.ipynb\" target=\"_parent\"><img src=\"https://colab.research.google.com/assets/colab-badge.svg\" alt=\"Open In Colab\"/></a>"
      ]
    },
    {
      "cell_type": "code",
      "execution_count": null,
      "metadata": {
        "colab": {
          "base_uri": "https://localhost:8080/"
        },
        "id": "rTNBpQ_hzRD6",
        "outputId": "accdac32-b949-4fad-e6f1-9b5735d3bed0"
      },
      "outputs": [
        {
          "output_type": "stream",
          "name": "stdout",
          "text": [
            "(8, 2)\n"
          ]
        }
      ],
      "source": [
        "def max_min(arr):\n",
        "  mx, mn =arr[0], arr[0]\n",
        "  for x in arr[1:]:\n",
        "    if x > mx:\n",
        "       mx = x\n",
        "    if x < mn:\n",
        "       mn  = x\n",
        "  return mx, mn\n",
        "\n",
        "data = [3, 5, 2, 8, 6]\n",
        "print(max_min(data))"
      ]
    },
    {
      "cell_type": "code",
      "source": [
        "def sum_avg(arr):\n",
        "    s = 0\n",
        "    for x in arr:\n",
        "        s += x\n",
        "    return s, s/len(arr)\n",
        "\n",
        "print(sum_avg([3,5,2,8,6]))"
      ],
      "metadata": {
        "colab": {
          "base_uri": "https://localhost:8080/"
        },
        "id": "zrGwc7YID0YN",
        "outputId": "ac2ad3f2-16ff-47bd-d1f2-2403f774b8bf"
      },
      "execution_count": null,
      "outputs": [
        {
          "output_type": "stream",
          "name": "stdout",
          "text": [
            "(24, 4.8)\n"
          ]
        }
      ]
    },
    {
      "cell_type": "code",
      "source": [
        "def linear_search(arr, target):\n",
        "    for i, x in enumerate(arr):\n",
        "        if x == target:\n",
        "            return i\n",
        "    return -1\n",
        "\n",
        "print(linear_search([7,1,9,4], 9))  # 2"
      ],
      "metadata": {
        "colab": {
          "base_uri": "https://localhost:8080/"
        },
        "id": "Mi2ZOnNfF-oG",
        "outputId": "00e05775-bd60-4e6a-88ff-b8f3e7563f9d"
      },
      "execution_count": null,
      "outputs": [
        {
          "output_type": "stream",
          "name": "stdout",
          "text": [
            "2\n"
          ]
        }
      ]
    },
    {
      "cell_type": "code",
      "source": [
        "def binary_search(arr, target):\n",
        "    l, r = 0, len(arr)-1\n",
        "    while l <= r:\n",
        "        m = (l+r)//2\n",
        "        if arr[m] == target:\n",
        "            return m\n",
        "        if arr[m] < target:\n",
        "            l = m+1\n",
        "        else:\n",
        "            r = m-1\n",
        "    return -1\n",
        "\n",
        "print(binary_search([1,3,5,7,9], 7))\n"
      ],
      "metadata": {
        "colab": {
          "base_uri": "https://localhost:8080/"
        },
        "id": "fDa-0fPoIDV7",
        "outputId": "0be952b0-c4cc-47b2-c646-225934ef9395"
      },
      "execution_count": null,
      "outputs": [
        {
          "output_type": "stream",
          "name": "stdout",
          "text": [
            "3\n"
          ]
        }
      ]
    },
    {
      "cell_type": "code",
      "source": [
        "def is_prime(n):\n",
        "    if n < 2:\n",
        "      return False\n",
        "    i = 2\n",
        "    while i*i <= n:\n",
        "        if n % i == 0:\n",
        "          return False\n",
        "        i += 1\n",
        "    return True\n",
        "\n",
        "print([ (x, is_prime(x)) for x in [2,3,4,17,20,23]])"
      ],
      "metadata": {
        "colab": {
          "base_uri": "https://localhost:8080/"
        },
        "id": "7U-dJ6nsF-8d",
        "outputId": "34657f7a-6501-40c3-fbe2-afcef39af315"
      },
      "execution_count": null,
      "outputs": [
        {
          "output_type": "stream",
          "name": "stdout",
          "text": [
            "[(2, True), (3, True), (4, False), (17, True), (20, False), (23, True)]\n"
          ]
        }
      ]
    },
    {
      "cell_type": "code",
      "source": [
        "def sieve(n):\n",
        "    prime = [True]*(n+1)\n",
        "    prime[:2] = [False, False]\n",
        "    p = 2\n",
        "    while p*p <= n:\n",
        "        if prime[p]:\n",
        "            for m in range(p*p, n+1, p):\n",
        "                prime[m] = False\n",
        "        p += 1\n",
        "    return [i for i, v in enumerate(prime) if v]\n",
        "\n",
        "print(sieve(30))"
      ],
      "metadata": {
        "colab": {
          "base_uri": "https://localhost:8080/"
        },
        "id": "fCGowQqpJR42",
        "outputId": "fb6b634d-c72d-4c33-e63e-2bab21cbcaaa"
      },
      "execution_count": null,
      "outputs": [
        {
          "output_type": "stream",
          "name": "stdout",
          "text": [
            "[2, 3, 5, 7, 11, 13, 17, 19, 23, 29]\n"
          ]
        }
      ]
    },
    {
      "cell_type": "code",
      "source": [
        "def factorial(n):\n",
        "    res = 1\n",
        "    for i in range(2, n+1):\n",
        "      res *= i\n",
        "    return res\n",
        "\n",
        "print(factorial(5))"
      ],
      "metadata": {
        "id": "MpcAMGoyF_PV"
      },
      "execution_count": null,
      "outputs": []
    },
    {
      "cell_type": "code",
      "source": [
        "def fib(n):\n",
        "    if n <= 1:\n",
        "        return n\n",
        "    a, b = 0, 1\n",
        "    for _ in range(2, n+1):\n",
        "        a, b = b, a+b\n",
        "    return b\n",
        "\n",
        "print([fib(i) for i in range(10)])"
      ],
      "metadata": {
        "colab": {
          "base_uri": "https://localhost:8080/"
        },
        "id": "0U_bAJ59F_S0",
        "outputId": "5f29155d-5d5b-4cd7-d103-a3394dba3f37"
      },
      "execution_count": null,
      "outputs": [
        {
          "output_type": "stream",
          "name": "stdout",
          "text": [
            "[0, 1, 1, 2, 3, 5, 8, 13, 21, 34]\n"
          ]
        }
      ]
    },
    {
      "cell_type": "code",
      "source": [
        "def is_palindrome(s):\n",
        "    l, r = 0, len(s)-1\n",
        "    while l < r:\n",
        "        if s[l] != s[r]:\n",
        "            return False\n",
        "        l += 1; r -= 1\n",
        "    return True\n",
        "\n",
        "print(is_palindrome(\"level\"))\n",
        "print(is_palindrome(\"hello\"))"
      ],
      "metadata": {
        "colab": {
          "base_uri": "https://localhost:8080/"
        },
        "id": "lanvXUMfF_ce",
        "outputId": "c7cc7de3-7ac6-416c-98b6-518c3f72a709"
      },
      "execution_count": null,
      "outputs": [
        {
          "output_type": "stream",
          "name": "stdout",
          "text": [
            "True\n",
            "False\n"
          ]
        }
      ]
    },
    {
      "cell_type": "code",
      "source": [
        "def freq_map(arr):\n",
        "    f = {}\n",
        "    for x in arr:\n",
        "        f[x] = f.get(x, 0) + 1\n",
        "    return f\n",
        "\n",
        "print(freq_map([\"a\",\"b\",\"a\",\"c\",\"b\",\"a\"]))"
      ],
      "metadata": {
        "colab": {
          "base_uri": "https://localhost:8080/"
        },
        "id": "8XIwilzdF_eu",
        "outputId": "a3c874c3-d2eb-4953-9d5c-2c69a7a74dd8"
      },
      "execution_count": null,
      "outputs": [
        {
          "output_type": "stream",
          "name": "stdout",
          "text": [
            "{'a': 3, 'b': 2, 'c': 1}\n"
          ]
        }
      ]
    },
    {
      "cell_type": "code",
      "source": [
        "def second_largest(arr):\n",
        "    first = second = float(\"-inf\")\n",
        "    for x in arr:\n",
        "        if x > first:\n",
        "            first, second = x, first\n",
        "        elif first > x > second:\n",
        "            second = x\n",
        "    return second\n",
        "\n",
        "print(second_largest([3,9,1,7,9,5]))  # 7"
      ],
      "metadata": {
        "colab": {
          "base_uri": "https://localhost:8080/"
        },
        "id": "FnUT1GWkF_hE",
        "outputId": "1461d9dc-8c85-4e70-f10b-f6d8a93bd21b"
      },
      "execution_count": null,
      "outputs": [
        {
          "output_type": "stream",
          "name": "stdout",
          "text": [
            "7\n"
          ]
        }
      ]
    },
    {
      "cell_type": "code",
      "source": [
        "def reverse_list(a):\n",
        "    l, r = 0, len(a)-1\n",
        "    while l < r:\n",
        "        a[l], a[r] = a[r], a[l]\n",
        "        l += 1; r -= 1\n",
        "    return a\n",
        "\n",
        "print(reverse_list([1,2,3,4,5]))\n",
        "print(\"hello\"[::-1])"
      ],
      "metadata": {
        "colab": {
          "base_uri": "https://localhost:8080/"
        },
        "id": "My6ex-tIF_kb",
        "outputId": "2607413b-657a-487e-8324-58144817205c"
      },
      "execution_count": null,
      "outputs": [
        {
          "output_type": "stream",
          "name": "stdout",
          "text": [
            "[5, 4, 3, 2, 1]\n",
            "olleh\n"
          ]
        }
      ]
    }
  ]
}